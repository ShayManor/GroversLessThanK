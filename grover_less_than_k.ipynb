{
 "cells": [
  {
   "cell_type": "code",
   "id": "initial_id",
   "metadata": {
    "collapsed": true,
    "ExecuteTime": {
     "end_time": "2024-09-29T17:11:02.686738Z",
     "start_time": "2024-09-29T17:11:02.662580Z"
    }
   },
   "source": [
    "# Built-in modules\n",
    "import math\n",
    "\n",
    "# Imports from Qiskit\n",
    "from qiskit import *\n",
    "from qiskit.circuit.library import GroverOperator, MCMT, ZGate\n",
    "from qiskit.visualization import plot_distribution\n",
    "from qiskit_aer import *\n",
    "from qiskit.circuit.library import IntegerComparator\n",
    "\n",
    "from qiskit.transpiler.preset_passmanagers import generate_preset_pass_manager\n",
    "# Imports from Qiskit Runtime\n",
    "from qiskit_ibm_runtime import QiskitRuntimeService\n",
    "from qiskit_ibm_runtime import SamplerV2 as Sampler"
   ],
   "outputs": [],
   "execution_count": 365
  },
  {
   "metadata": {
    "ExecuteTime": {
     "end_time": "2024-09-29T17:11:02.708126Z",
     "start_time": "2024-09-29T17:11:02.692269Z"
    }
   },
   "cell_type": "code",
   "source": [
    "backend = Aer.get_backend('qasm_simulator')\n",
    "from math import *\n",
    "print(backend.name)\n",
    "def initialize_circuit(int_list, K):\n",
    "    N = len(int_list)\n",
    "    n = ceil(log2(N))  # Number of qubits for index register\n",
    "    m = ceil(log2(max(int_list) + 1))  # Number of qubits for data register\n",
    "\n",
    "    # Get the number of ancillas required by the comparator\n",
    "    _, num_comp_ancillas = comparator_circuit(m, K)\n",
    "    num_ancilla = 1 + num_comp_ancillas  # 1 for comparator output, rest for ancillas\n",
    "\n",
    "    total_qubits = n + m + num_ancilla\n",
    "    qc = QuantumCircuit(total_qubits, n)  # Classical bits for measurement\n",
    "\n",
    "    return qc, n, m, num_comp_ancillas"
   ],
   "id": "188b0f0a1b6b136",
   "outputs": [
    {
     "name": "stdout",
     "output_type": "stream",
     "text": [
      "qasm_simulator\n"
     ]
    }
   ],
   "execution_count": 366
  },
  {
   "metadata": {
    "ExecuteTime": {
     "end_time": "2024-09-29T17:11:02.750911Z",
     "start_time": "2024-09-29T17:11:02.748359Z"
    }
   },
   "cell_type": "code",
   "source": [
    "def load_data_circuit(int_list, n, m):\n",
    "    qc = QuantumCircuit(n + m)\n",
    "    for i, a_i in enumerate(int_list):\n",
    "        index_bin = format(i, f'0{n}b')\n",
    "        data_bin = format(a_i, f'0{m}b')\n",
    "\n",
    "        # Prepare index qubits for |i⟩\n",
    "        for idx, bit in enumerate(reversed(index_bin)):\n",
    "            if bit == '0':\n",
    "                qc.x(idx)\n",
    "\n",
    "        # Load a_i into data register using multi-controlled X gates\n",
    "        for d_idx, bit in enumerate(reversed(data_bin)):\n",
    "            if bit == '1':\n",
    "                qc.mcx(list(range(n)), n + d_idx)\n",
    "\n",
    "        # Reset index qubits\n",
    "        for idx, bit in enumerate(reversed(index_bin)):\n",
    "            if bit == '0':\n",
    "                qc.x(idx)\n",
    "\n",
    "    return qc.to_gate(label='LoadData')"
   ],
   "id": "edab4c589c73aae3",
   "outputs": [],
   "execution_count": 367
  },
  {
   "metadata": {
    "ExecuteTime": {
     "end_time": "2024-09-29T17:11:02.776137Z",
     "start_time": "2024-09-29T17:11:02.772841Z"
    }
   },
   "cell_type": "code",
   "source": [
    "def comparator_circuit(m, K):\n",
    "    # Create the comparator circuit\n",
    "    comparator = IntegerComparator(\n",
    "        num_state_qubits=m,\n",
    "        value=K,\n",
    "        geq=False,  # Less than k\n",
    "        name='Comparator'\n",
    "    )\n",
    "    # Return the comparator gate and number of ancilla qubits\n",
    "    return comparator.to_gate(), comparator.num_ancillas"
   ],
   "id": "778dc4bd73f2d78e",
   "outputs": [],
   "execution_count": 368
  },
  {
   "metadata": {
    "ExecuteTime": {
     "end_time": "2024-09-29T17:11:02.781274Z",
     "start_time": "2024-09-29T17:11:02.778452Z"
    }
   },
   "cell_type": "code",
   "source": [
    "def build_grover_circuit(int_list, K):\n",
    "    qc, n, m, num_comp_ancillas = initialize_circuit(int_list, K)\n",
    "    total_qubits = n + m + 1 + num_comp_ancillas  # +1 for comparator output\n",
    "\n",
    "    index_qubits = list(range(n))\n",
    "\n",
    "    # Initialize index qubits in superposition\n",
    "    qc.h(index_qubits)\n",
    "\n",
    "    # Prepare the oracle and diffusion operator\n",
    "    oracle_gate = grover_oracle(int_list, K, n, m)\n",
    "    diffusion_gate = diffusion_operator(n)\n",
    "\n",
    "    # Estimate number of Grover iterations\n",
    "    N = 2 ** n\n",
    "    M = len([a for a in int_list if a < K])\n",
    "    if M == 0:\n",
    "        print(\"No elements less than k.\")\n",
    "        return qc\n",
    "\n",
    "    num_iterations = int(round((pi / 4) * sqrt(N / M)))\n",
    "\n",
    "    # Apply Grover iterations\n",
    "    for _ in range(num_iterations):\n",
    "        qc.append(oracle_gate, range(total_qubits))\n",
    "        qc.append(diffusion_gate, index_qubits)\n",
    "\n",
    "    # Measure index qubits\n",
    "    qc.measure(index_qubits, qc.clbits[:n])\n",
    "\n",
    "    return qc"
   ],
   "id": "cdca35a6cc2fcf",
   "outputs": [],
   "execution_count": 369
  },
  {
   "metadata": {
    "ExecuteTime": {
     "end_time": "2024-09-29T17:11:02.790567Z",
     "start_time": "2024-09-29T17:11:02.788528Z"
    }
   },
   "cell_type": "code",
   "source": [
    "def diffusion_operator(n):\n",
    "    qc = QuantumCircuit(n)\n",
    "    qc.h(range(n))\n",
    "    qc.x(range(n))\n",
    "\n",
    "    # Multi-controlled Z gate\n",
    "    if n > 1:\n",
    "        qc.h(n - 1)\n",
    "        qc.mcx(list(range(n - 1)), n - 1)\n",
    "        qc.h(n - 1)\n",
    "    else:\n",
    "        qc.z(0)\n",
    "\n",
    "    qc.x(range(n))\n",
    "    qc.h(range(n))\n",
    "\n",
    "    return qc.to_gate(label='Diffusion')"
   ],
   "id": "147c932a769c6d2e",
   "outputs": [],
   "execution_count": 370
  },
  {
   "metadata": {
    "ExecuteTime": {
     "end_time": "2024-09-29T17:11:02.810413Z",
     "start_time": "2024-09-29T17:11:02.807581Z"
    }
   },
   "cell_type": "code",
   "source": [
    "def run_grover(int_list, K):\n",
    "    qc = build_grover_circuit(int_list, K)\n",
    "    backend = Aer.get_backend('qasm_simulator')\n",
    "    transpiled_qc = transpile(qc, backend)\n",
    "    result = backend.run(transpiled_qc).result()\n",
    "    # sampler = Sampler(backend)\n",
    "    # result = sampler.run([transpiled_qc]).result()\n",
    "    cs = result.get_counts()\n",
    "    print(cs)\n",
    "\n",
    "    n = ceil(log2(len(int_list)))\n",
    "    found_indices = []\n",
    "    for measured_state in cs:\n",
    "        index = int(measured_state[:n], 2)\n",
    "        if index < len(int_list) and int_list[index] < K:\n",
    "            found_indices.append(index)\n",
    "\n",
    "    found_values = [int_list[i] for i in found_indices]\n",
    "\n",
    "    print(\"Indices of elements less than k:\", found_indices)\n",
    "    print(\"Elements less than k:\", found_values)\n",
    "    return cs"
   ],
   "id": "434222215f5d0f48",
   "outputs": [],
   "execution_count": 371
  },
  {
   "metadata": {
    "ExecuteTime": {
     "end_time": "2024-09-29T17:11:02.820491Z",
     "start_time": "2024-09-29T17:11:02.817912Z"
    }
   },
   "cell_type": "code",
   "source": [
    "def grover_oracle(int_list, K, n, m):\n",
    "    # Get the comparator gate and number of ancilla qubits\n",
    "    comparator, num_comp_ancillas = comparator_circuit(m, K)\n",
    "\n",
    "    total_qubits = n + m + 1 + num_comp_ancillas  # +1 for comparator output\n",
    "    qc = QuantumCircuit(total_qubits)\n",
    "\n",
    "    index_qubits = list(range(n))\n",
    "    data_qubits = list(range(n, n + m))\n",
    "    ancilla_qubit = n + m  # Output qubit of comparator\n",
    "    comp_ancilla_qubits = list(range(n + m + 1, total_qubits))  # Comparator ancillas\n",
    "\n",
    "    # Load data into data register\n",
    "    load_data = load_data_circuit(int_list, n, m)\n",
    "    qc.append(load_data, index_qubits + data_qubits)\n",
    "\n",
    "    # Apply comparator circuit\n",
    "    comparator_qubits = data_qubits + [ancilla_qubit] + comp_ancilla_qubits\n",
    "    qc.append(comparator, comparator_qubits)\n",
    "\n",
    "    # Phase flip the state if ancilla qubit is |1⟩\n",
    "    qc.z(ancilla_qubit)\n",
    "\n",
    "    # Uncompute comparator and data loading\n",
    "    qc.append(comparator.inverse(), comparator_qubits)\n",
    "    qc.append(load_data.inverse(), index_qubits + data_qubits)\n",
    "\n",
    "    return qc.to_gate(label='Oracle')\n"
   ],
   "id": "61aaf556ddd24440",
   "outputs": [],
   "execution_count": 372
  },
  {
   "metadata": {
    "ExecuteTime": {
     "end_time": "2024-09-29T17:11:02.977045Z",
     "start_time": "2024-09-29T17:11:02.827342Z"
    }
   },
   "cell_type": "code",
   "source": [
    "int_list = [4, 6, 9, 1, 2, 5, 2, 11, 15, 4]\n",
    "# result should be [4, 1, 2, 2, 4]\n",
    "K = 5\n",
    "\n",
    "counts = run_grover(int_list, K)\n",
    "plot_distribution(counts)"
   ],
   "id": "ad54d9b6aa3fcb56",
   "outputs": [
    {
     "name": "stdout",
     "output_type": "stream",
     "text": [
      "{'1001': 2, '1010': 7, '0101': 191, '0110': 7, '0011': 7, '0001': 190, '1101': 4, '1111': 7, '0111': 178, '1011': 3, '0000': 7, '0010': 208, '0100': 4, '1100': 4, '1110': 6, '1000': 199}\n",
      "Indices of elements less than K: [9, 6, 3, 0, 4]\n",
      "Elements less than K: [4, 2, 1, 4, 2]\n"
     ]
    },
    {
     "data": {
      "text/plain": [
       "<Figure size 700x500 with 1 Axes>"
      ],
      "image/png": "[encoded data removed]"
     },
     "execution_count": 373,
     "metadata": {},
     "output_type": "execute_result"
    }
   ],
   "execution_count": 373
  }
 ],
 "metadata": {
  "kernelspec": {
   "display_name": "Python 3",
   "language": "python",
   "name": "python3"
  },
  "language_info": {
   "codemirror_mode": {
    "name": "ipython",
    "version": 2
   },
   "file_extension": ".py",
   "mimetype": "text/x-python",
   "name": "python",
   "nbconvert_exporter": "python",
   "pygments_lexer": "ipython2",
   "version": "2.7.6"
  }
 },
 "nbformat": 4,
 "nbformat_minor": 5
}
