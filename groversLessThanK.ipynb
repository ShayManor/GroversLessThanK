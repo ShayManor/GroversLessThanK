{
 "cells": [
  {
   "cell_type": "code",
   "id": "initial_id",
   "metadata": {
    "collapsed": true,
    "ExecuteTime": {
     "end_time": "2024-09-29T15:09:42.891833Z",
     "start_time": "2024-09-29T15:09:42.881365Z"
    }
   },
   "source": [
    "# Built-in modules\n",
    "import math\n",
    "\n",
    "# Imports from Qiskit\n",
    "from qiskit import QuantumCircuit\n",
    "from qiskit.circuit.library import GroverOperator, MCMT, ZGate\n",
    "from qiskit.visualization import plot_distribution\n",
    "from qiskit_aer import *\n",
    "from qiskit.transpiler.preset_passmanagers import generate_preset_pass_manager\n",
    "# Imports from Qiskit Runtime\n",
    "from qiskit_ibm_runtime import QiskitRuntimeService\n",
    "from qiskit_ibm_runtime import SamplerV2 as Sampler"
   ],
   "outputs": [],
   "execution_count": 96
  },
  {
   "metadata": {
    "ExecuteTime": {
     "end_time": "2024-09-29T15:09:42.921893Z",
     "start_time": "2024-09-29T15:09:42.917663Z"
    }
   },
   "cell_type": "code",
   "source": [
    "backend = Aer.get_backend('qasm_simulator')\n",
    "print(backend.name)"
   ],
   "id": "188b0f0a1b6b136",
   "outputs": [
    {
     "name": "stdout",
     "output_type": "stream",
     "text": [
      "qasm_simulator\n"
     ]
    }
   ],
   "execution_count": 97
  },
  {
   "metadata": {
    "ExecuteTime": {
     "end_time": "2024-09-29T15:09:42.936437Z",
     "start_time": "2024-09-29T15:09:42.934181Z"
    }
   },
   "cell_type": "code",
   "source": [
    "def grover_oracle(marked_states):\n",
    "    \"\"\"Build a Grover oracle for multiple marked states\n",
    "\n",
    "    Here we assume all input marked states have the same number of bits\n",
    "\n",
    "    Parameters:\n",
    "        marked_states (str or list): Marked states of oracle\n",
    "\n",
    "    Returns:\n",
    "        QuantumCircuit: Quantum circuit representing Grover oracle\n",
    "    \"\"\"\n",
    "    if not isinstance(marked_states, list):\n",
    "        marked_states = [marked_states]\n",
    "    # Compute the number of qubits in circuit\n",
    "    num_qubits = len(marked_states[0])\n",
    "\n",
    "    qc = QuantumCircuit(num_qubits)\n",
    "    # Mark each target state in the input list\n",
    "    for target in marked_states:\n",
    "        # Flip target bit-string to match Qiskit bit-ordering\n",
    "        rev_target = target[::-1]\n",
    "        # Find the indices of all the '0' elements in bit-string\n",
    "        zero_inds = [ind for ind in range(num_qubits) if rev_target.startswith(\"0\", ind)]\n",
    "        # Add a multi-controlled Z-gate with pre- and post-applied X-gates (open-controls)\n",
    "        # where the target bit-string has a '0' entry\n",
    "        qc.x(zero_inds)\n",
    "        qc.compose(MCMT(ZGate(), num_qubits - 1, 1), inplace=True)\n",
    "        qc.x(zero_inds)\n",
    "    return qc"
   ],
   "id": "61aaf556ddd24440",
   "outputs": [],
   "execution_count": 98
  },
  {
   "metadata": {
    "ExecuteTime": {
     "end_time": "2024-09-29T15:09:42.945530Z",
     "start_time": "2024-09-29T15:09:42.943841Z"
    }
   },
   "cell_type": "code",
   "source": [
    "def convert_to_bitstring(nums, num_qubits):\n",
    "    \"\"\"Convert an integer to a bitstring\"\"\"\n",
    "    for i in range(len(nums)):\n",
    "        nums[i] = format(nums[i], '0{}b'.format(num_qubits))\n",
    "    return nums\n",
    "    # return format(num, '0{}b'.format(num_qubits))"
   ],
   "id": "b2a47ca082825659",
   "outputs": [],
   "execution_count": 99
  },
  {
   "metadata": {
    "ExecuteTime": {
     "end_time": "2024-09-29T15:09:42.954092Z",
     "start_time": "2024-09-29T15:09:42.951830Z"
    }
   },
   "cell_type": "code",
   "source": [
    "# def grovers_circuit():\n",
    "#     grover_op = GroverOperator(oracle)\n",
    "#     optimal_num_iterations = math.floor(\n",
    "#     math.pi / (4 * math.asin(math.sqrt(len(marked_states) / 2**grover_op.num_qubits)))\n",
    "#     )\n",
    "#     qc = QuantumCircuit(grover_op.num_qubits)\n",
    "# # Create even superposition of all basis states\n",
    "#     qc.h(range(grover_op.num_qubits))\n",
    "#     # Apply Grover operator the optimal number of times\n",
    "#     qc.compose(grover_op.power(optimal_num_iterations), inplace=True)\n",
    "#     # Measure all qubits\n",
    "#     qc.measure_all()\n",
    "#     qc.draw(output=\"mpl\", style=\"iqp\")\n",
    "#     return qc\n",
    "def grovers_circuit():\n",
    "    grover_op = GroverOperator(oracle)\n",
    "    optimal_num_iterations = math.floor(\n",
    "    math.pi / (4 * math.asin(math.sqrt(len(marked_states) / 2**grover_op.num_qubits)))\n",
    "    )\n",
    "    qc = QuantumCircuit(grover_op.num_qubits)\n",
    "    # Create even superposition of all basis states\n",
    "    qc.h(range(grover_op.num_qubits))\n",
    "    # Apply Grover operator the optimal number of times\n",
    "    qc.compose(grover_op.power(optimal_num_iterations), inplace=True)\n",
    "    # Measure all qubits\n",
    "    qc.measure_all()\n",
    "    qc.draw(output=\"mpl\", style=\"iqp\")\n",
    "    return qc"
   ],
   "id": "6c4bc905f8c2e0a2",
   "outputs": [],
   "execution_count": 100
  },
  {
   "metadata": {
    "ExecuteTime": {
     "end_time": "2024-09-29T15:09:42.962004Z",
     "start_time": "2024-09-29T15:09:42.960261Z"
    }
   },
   "cell_type": "code",
   "source": [
    "def optimize_grovers(qc):\n",
    "    target = backend.target\n",
    "    pm = generate_preset_pass_manager(target=target, optimization_level=3)\n",
    "    \n",
    "    circuit_isa = pm.run(qc)\n",
    "    circuit_isa.draw(output=\"mpl\", idle_wires=False, style=\"iqp\")\n",
    "    return circuit_isa"
   ],
   "id": "560a3058307c3499",
   "outputs": [],
   "execution_count": 101
  },
  {
   "metadata": {
    "ExecuteTime": {
     "end_time": "2024-09-29T15:09:43.084480Z",
     "start_time": "2024-09-29T15:09:42.975389Z"
    }
   },
   "cell_type": "code",
   "source": [
    "# To run on local simulator:\n",
    "#   1. Use the SatetvectorSampler from qiskit.primitives instead\n",
    "# marked_states = convert_to_bitstring(range(8), 4)\n",
    "marked_states = [\"001\", \"000\", \"011\"]\n",
    "oracle = grover_oracle(marked_states)\n",
    "sampler = Sampler(backend)\n",
    "sampler.options.default_shots = 10_000\n",
    "grover_circ = grovers_circuit()\n",
    "# result = sampler.run([grover_circ]).result()\n",
    "result = sampler.run([optimize_grovers(grover_circ)]).result()\n",
    "dist = result[0].data.meas.get_counts()\n",
    "print(dist)\n",
    "plot_distribution(dist)\n",
    "# oracle.draw(output=\"mpl\", style=\"iqp\")"
   ],
   "id": "ad54d9b6aa3fcb56",
   "outputs": [
    {
     "name": "stdout",
     "output_type": "stream",
     "text": [
      "{'011': 2874, '000': 2766, '001': 2797, '010': 332, '101': 300, '100': 329, '110': 312, '111': 290}\n"
     ]
    },
    {
     "data": {
      "text/plain": [
       "<Figure size 700x500 with 1 Axes>"
      ],
      "image/png": "[encoded data removed]"
     },
     "execution_count": 102,
     "metadata": {},
     "output_type": "execute_result"
    }
   ],
   "execution_count": 102
  }
 ],
 "metadata": {
  "kernelspec": {
   "display_name": "Python 3",
   "language": "python",
   "name": "python3"
  },
  "language_info": {
   "codemirror_mode": {
    "name": "ipython",
    "version": 2
   },
   "file_extension": ".py",
   "mimetype": "text/x-python",
   "name": "python",
   "nbconvert_exporter": "python",
   "pygments_lexer": "ipython2",
   "version": "2.7.6"
  }
 },
 "nbformat": 4,
 "nbformat_minor": 5
}
